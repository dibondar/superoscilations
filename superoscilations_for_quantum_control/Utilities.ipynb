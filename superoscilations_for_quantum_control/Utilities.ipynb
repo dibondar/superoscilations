{
 "cells": [
  {
   "cell_type": "code",
   "execution_count": null,
   "metadata": {
    "collapsed": true
   },
   "outputs": [],
   "source": [
    "#####################################################################\n",
    "# This file is for doing whatever and probably shouldn't have been  #\n",
    "# committed to Github, but there's an error in removing it so we    #\n",
    "# have to live with it now, I guess.                                #\n",
    "#####################################################################\n",
    "from __future__ import print_function, division\n",
    "import os\n",
    "import sys\n",
    "\n",
    "\"\"\"Open MP and MKL should speed up the time required to run these simulations!\"\"\"\n",
    "# threads = sys.argv[1]\n",
    "threads = 16\n",
    "os.environ['NUMEXPR_MAX_THREADS'] = '{}'.format(threads)\n",
    "os.environ['NUMEXPR_NUM_THREADS'] = '{}'.format(threads)\n",
    "os.environ['OMP_NUM_THREADS'] = '{}'.format(threads)\n",
    "os.environ['MKL_NUM_THREADS'] = '{}'.format(threads)\n",
    "\n",
    "from quspin.operators import hamiltonian, exp_op, quantum_operator  # operators\n",
    "from quspin.basis import spinful_fermion_basis_1d  # Hilbert space basis\n",
    "from quspin.tools.measurements import obs_vs_time  # calculating dynamics\n",
    "from quspin.tools.evolution import evolve  # evolving system\n",
    "import numpy as np  # general math functions\n",
    "from time import time  # tool for calculating computation time\n",
    "from tqdm import tqdm\n",
    "import matplotlib.pyplot as plt  # plotting library\n",
    "from scipy.signal.windows import blackman\n",
    "from scipy import fftpack\n",
    "from scipy.interpolate import UnivariateSpline\n",
    "from quspin.tools.measurements import project_op\n",
    "from tools import HubbardModel as fhmodel, InitializeArchive\n",
    "import psutil"
   ]
  },
  {
   "cell_type": "code",
   "execution_count": null,
   "outputs": [],
   "source": [
    "########################################################################################################################\n",
    "# Declare Parameters of system to be loaded\n",
    "########################################################################################################################\n",
    "\n",
    "\"\"\"Parameters for a target or reference field\"\"\"\n",
    "# Hubbard model\n",
    "L = 10\n",
    "t0 = 0.52\n",
    "U = 0.05 * t0    # interaction strength\n",
    "\n",
    "load_params = dict(\n",
    "    angular_frequency=32.9,    # Field angular frequency THz\n",
    "    field_amplitude=4.5,       # Field amplitude MV/cm\n",
    "    lattice_constant=4,        # Lattice constant Angstroms\n",
    "    nx=L,                      # system size\n",
    "    n_up=L // 2 + L % 2,       # number of fermions with spin up\n",
    "    n_down=L // 2,             # number of fermions with spin down\n",
    "    hopping=t0,                # hopping strength\n",
    "    interaction=U,             # interaction strength\n",
    "    pbc=True,\n",
    "    chem_potential=0,\n",
    "    cycles=10,                 # time in cycles of field frequency\n",
    "    n_steps=4000,              # Number of steps for time resolution\n",
    "    ny=0,                      # 1D simulations do not use y-axis\n",
    "    soc=0,                     # No spin orbit coupling\n",
    "    gamma=0,\n",
    "    tracking=True,             # Are you loading a field for tracking\n",
    "    int_track=0,               # If so, you need to list the U for\n",
    "    scf=True,\n",
    ")\n",
    "\n",
    "load = fhmodel(**load_params)\n",
    "start = 0.0\n",
    "times, dt = np.linspace(start, load.stop, num=load.n_steps, endpoint=True, retstep=True)"
   ],
   "metadata": {
    "collapsed": false,
    "pycharm": {
     "name": "#%%\n"
    }
   }
  }
 ],
 "metadata": {
  "kernelspec": {
   "display_name": "Python 3",
   "language": "python",
   "name": "python3"
  },
  "language_info": {
   "codemirror_mode": {
    "name": "ipython",
    "version": 2
   },
   "file_extension": ".py",
   "mimetype": "text/x-python",
   "name": "python",
   "nbconvert_exporter": "python",
   "pygments_lexer": "ipython2",
   "version": "2.7.6"
  }
 },
 "nbformat": 4,
 "nbformat_minor": 0
}